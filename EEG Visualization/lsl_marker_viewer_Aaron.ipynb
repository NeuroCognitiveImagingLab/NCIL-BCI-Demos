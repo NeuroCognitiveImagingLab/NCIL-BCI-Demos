{
 "cells": [
  {
   "cell_type": "code",
   "execution_count": null,
   "metadata": {},
   "outputs": [],
   "source": [
    "import time\n",
    "\n",
    "import matplotlib.patches as mpatches\n",
    "import numpy as np\n",
    "from matplotlib import pyplot as plt\n",
    "from mne import Annotations, create_info\n",
    "from mne.io import RawArray\n",
    "from mne.viz import set_browser_backend\n",
    "\n",
    "from mne_lsl.player import PlayerLSL\n",
    "from mne_lsl.stream import StreamLSL\n",
    "from mne_lsl.lsl import StreamInfo, StreamInlet, resolve_streams\n"
   ]
  },
  {
   "cell_type": "code",
   "execution_count": null,
   "metadata": {},
   "outputs": [],
   "source": [
    "# same as source_id defined in the PsychoPy script\n",
    "source_id = 'Cyton_Stream'"
   ]
  },
  {
   "cell_type": "markdown",
   "metadata": {},
   "source": [
    "## Find LSL streams on the local network"
   ]
  },
  {
   "cell_type": "code",
   "execution_count": 3,
   "metadata": {},
   "outputs": [
    {
     "data": {
      "text/plain": [
       "[< sInfo 'BrainVision RDA Markers' >\n",
       "   | Type: Markers\n",
       "   | Sampling: Irregular\n",
       "   | Number of channels: 1\n",
       "   | Data type: string\n",
       "   | Source: RDA 127.0.0.1:51244 Marker,\n",
       " < sInfo 'BrainVision RDA' >\n",
       "   | Type: EEG\n",
       "   | Sampling: 500.0 Hz\n",
       "   | Number of channels: 17\n",
       "   | Data type: <class 'numpy.float32'>\n",
       "   | Source: RDA 127.0.0.1:51244]"
      ]
     },
     "execution_count": 3,
     "metadata": {},
     "output_type": "execute_result"
    }
   ],
   "source": [
    "streams = resolve_streams()\n",
    "streams"
   ]
  },
  {
   "cell_type": "markdown",
   "metadata": {},
   "source": [
    "## Open the marker stream"
   ]
  },
  {
   "cell_type": "code",
   "execution_count": null,
   "metadata": {},
   "outputs": [
    {
     "ename": "NameError",
     "evalue": "name 'marker_stream_idx' is not defined",
     "output_type": "error",
     "traceback": [
      "\u001b[1;31m---------------------------------------------------------------------------\u001b[0m",
      "\u001b[1;31mNameError\u001b[0m                                 Traceback (most recent call last)",
      "Cell \u001b[1;32mIn[5], line 1\u001b[0m\n\u001b[1;32m----> 1\u001b[0m inlet_markers \u001b[38;5;241m=\u001b[39m StreamInlet(streams[\u001b[43mmarker_stream_idx\u001b[49m])\n\u001b[0;32m      2\u001b[0m inlet_markers\u001b[38;5;241m.\u001b[39mopen_stream()\n",
      "\u001b[1;31mNameError\u001b[0m: name 'marker_stream_idx' is not defined"
     ]
    }
   ],
   "source": [
    "eeg_stream = StreamLSL(bufsize=2, name=streams[0].name).connect()\n",
    "\n",
    "# eeg_stream = StreamInlet(streams[0])\n",
    "# eeg_stream.open_stream()\n",
    "\n",
    "# Only the initial .time_correction() call takes a few ms to complete so we do it here (future calls are 'instantaneous')\n",
    "initial_time_offset = eeg_stream.time_correction()"
   ]
  },
  {
   "cell_type": "code",
   "execution_count": null,
   "metadata": {},
   "outputs": [],
   "source": [
    "for i in range(15):\n",
    "    sample, timestamp = eeg_stream.pull_sample(timeout=0)\n",
    "    timestamp = timestamp - eeg_stream.time_correction()\n",
    "    \n",
    "    print((sample, timestamp))\n",
    "    time.sleep(0.150)"
   ]
  },
  {
   "cell_type": "markdown",
   "metadata": {},
   "source": [
    "## Plot EEG data"
   ]
  },
  {
   "cell_type": "code",
   "execution_count": null,
   "metadata": {},
   "outputs": [
    {
     "data": {
      "image/png": "[encoded data removed]",
      "text/plain": [
       "<Figure size 640x480 with 3 Axes>"
      ]
     },
     "metadata": {},
     "output_type": "display_data"
    }
   ],
   "source": [
    "picks = (\"1\", \"2\", \"3\")  # channel selection\n",
    "f, ax = plt.subplots(3, 1, sharex=True, constrained_layout=True)\n",
    "for _ in range(3):  # acquire 3 separate window\n",
    "    # figure how many new samples are available, in seconds\n",
    "    winsize = eeg_stream.n_new_samples / stream.info[\"sfreq\"]\n",
    "    # retrieve and plot data\n",
    "    data, ts = eeg_stream.get_data(winsize, picks=picks)\n",
    "    for k, data_channel in enumerate(data):\n",
    "        ax[k].plot(ts, data_channel)\n",
    "    time.sleep(0.5)\n",
    "for k, ch in enumerate(picks):\n",
    "    ax[k].set_title(f\"EEG {ch}\")\n",
    "ax[-1].set_xlabel(\"Timestamp (LSL time)\")\n",
    "plt.show()"
   ]
  },
  {
   "cell_type": "code",
   "execution_count": null,
   "metadata": {},
   "outputs": [],
   "source": []
  },
  {
   "cell_type": "code",
   "execution_count": null,
   "metadata": {},
   "outputs": [],
   "source": []
  },
  {
   "cell_type": "code",
   "execution_count": null,
   "metadata": {},
   "outputs": [
    {
     "ename": "NameError",
     "evalue": "name 'inlet_eeg' is not defined",
     "output_type": "error",
     "traceback": [
      "\u001b[1;31m---------------------------------------------------------------------------\u001b[0m",
      "\u001b[1;31mNameError\u001b[0m                                 Traceback (most recent call last)",
      "Cell \u001b[1;32mIn[17], line 1\u001b[0m\n\u001b[1;32m----> 1\u001b[0m \u001b[43minlet_eeg\u001b[49m\u001b[38;5;241m.\u001b[39mclose_stream()\n\u001b[0;32m      2\u001b[0m inlet_markers\u001b[38;5;241m.\u001b[39mclose_stream()\n",
      "\u001b[1;31mNameError\u001b[0m: name 'inlet_eeg' is not defined"
     ]
    }
   ],
   "source": [
    "eeg_stream.close_stream()\n",
    "marker_stream.close_stream()"
   ]
  },
  {
   "cell_type": "code",
   "execution_count": 19,
   "metadata": {},
   "outputs": [
    {
     "ename": "NameError",
     "evalue": "name 'eeg_stream' is not defined",
     "output_type": "error",
     "traceback": [
      "\u001b[1;31m---------------------------------------------------------------------------\u001b[0m",
      "\u001b[1;31mNameError\u001b[0m                                 Traceback (most recent call last)",
      "Cell \u001b[1;32mIn[19], line 1\u001b[0m\n\u001b[1;32m----> 1\u001b[0m \u001b[43meeg_stream\u001b[49m\u001b[38;5;241m.\u001b[39mdisconnect()\n",
      "\u001b[1;31mNameError\u001b[0m: name 'eeg_stream' is not defined"
     ]
    }
   ],
   "source": [
    "eeg_stream.disconnect()"
   ]
  },
  {
   "cell_type": "code",
   "execution_count": null,
   "metadata": {},
   "outputs": [],
   "source": []
  }
 ],
 "metadata": {
  "kernelspec": {
   "display_name": "ncil",
   "language": "python",
   "name": "python3"
  },
  "language_info": {
   "codemirror_mode": {
    "name": "ipython",
    "version": 3
   },
   "file_extension": ".py",
   "mimetype": "text/x-python",
   "name": "python",
   "nbconvert_exporter": "python",
   "pygments_lexer": "ipython3",
   "version": "3.12.7"
  }
 },
 "nbformat": 4,
 "nbformat_minor": 2
}
